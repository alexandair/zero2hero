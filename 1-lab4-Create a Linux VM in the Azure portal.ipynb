{
    "cells": [
        {
            "attachments": {},
            "cell_type": "markdown",
            "metadata": {
                "dotnet_interactive": {
                    "language": "csharp"
                },
                "polyglot_notebook": {
                    "kernelName": "csharp"
                }
            },
            "source": [
                "# Create a Linux virtual machine (jumpbox) in the Azure portal\n",
                "\n",
                "This lab shows you how to use the [Azure portal](https://portal.azure.com) to deploy a Linux virtual machine running Ubuntu 20.04 LTS.\n",
                "\n",
                "## Sign in to Azure\n",
                "\n",
                "Sign in to the [Azure portal](https://portal.azure.com) if you haven't already.\n",
                "\n",
                "## Create virtual machine\n",
                "\n",
                "1. Type **virtual machines** in the search.\n",
                "    \n",
                "2. Under **Services**, select **Virtual machines**.\n",
                "    \n",
                "3. In the **Virtual machines** page, select **Create**, and then **Azure virtual machine**. The **Create a virtual machine** page opens.\n",
                "    \n",
                "4. In the **Basics** tab, under **Project details**, create a new resource group. Specify _otp-vms-rg_ as a name.\n",
                "    \n",
                "5. Under **Instance details**, type _linuxjumpbox_ for the **Virtual machine name**, _(Europe) West Europe_ as a region, Availability options: No infrastructure redundancy required, and choose _Ubuntu 20.04 LTS_ for your **Image**. Select size _Standard\\_B1ms_.\n",
                "    \n",
                "6. Under **Administrator account**, select **SSH public key**.\n",
                "    \n",
                "7. In **Username** type _azureuser_.\n",
                "    \n",
                "8. For SSH public key source, leave the default of **Generate new key pair**, and then type _linuxjumpbox\\_key_ for the **Key pair name**.\n",
                "    \n",
                "9. Under **Inbound port rules** > **Public inbound ports** , choose **Allow selected ports** and leave SSH (22) from the drop-down.\n",
                "    \n",
                "10. Click the **Disks** tab. Change the **OS disk type** to _Standard SSD_.\n",
                "    \n",
                "11. Click the **Networking** tab. As a **Virtual network** pick _demovnet_ in _otp-net-rg_ resource group and select _jumpbox_ as a **Subnet**. Leave the remaining defaults.\n",
                "    \n",
                "12. On the **Management** tab, under **Azure AD** select  **Login with Azure AD**. **Enable system assigned managed identity** will be automatically selected. \n",
                "    \n",
                "13. Leave the remaining defaults and then select the **Review + create**  button at the bottom of the page.\n",
                "    \n",
                "14. On the **Create a virtual machine** page, you can see the details about the VM you are about to create. When you are ready, select **Create**.\n",
                "    \n",
                "15. When the **Generate new key pair** window opens, select **Download private key and create resource**. Your key file will be download as _linuxjumpbox\\_key.pem_. Make sure you know where the `.pem` file was downloaded, you will need the path to it in the next step.\n",
                "    \n",
                "16. When the deployment is finished, select **Go to resource**.\n",
                "    \n",
                "17. On the page for your new VM, select the public IP address and copy it to your clipboard.\n",
                "    \n",
                "\n",
                "## Connect to virtual machine\n",
                "\n",
                "Create an SSH connection with the VM.\n",
                "\n",
                "1. If you are on a Mac or Linux machine, open a Bash prompt. If you are on a Windows machine, open a PowerShell prompt.\n",
                "    \n",
                "2. Move your `.pem` file to the `~\\.ssh` folder.\n",
                "    \n",
                "3. At your prompt, open an SSH connection to your virtual machine. Replace the IP address with the one from your VM.\n",
                "    \n",
                "\n",
                "```\n",
                "ssh azureuser@10.111.12.123\n",
                "\n",
                "```\n",
                "\n",
                "TIP: The SSH key you created can be used the next time your create a VM in Azure. Just select the **Use a key stored in Azure** for **SSH public key source** the next time you create a VM. You already have the private key on your computer, so you won't need to download anything."
            ]
        }
    ],
    "metadata": {
        "kernelspec": {
            "display_name": ".NET (C#)",
            "language": "C#",
            "name": ".net-csharp"
        },
        "polyglot_notebook": {
            "kernelInfo": {
                "defaultKernelName": "csharp",
                "items": [
                    {
                        "aliases": [],
                        "name": "csharp"
                    },
                    {
                        "aliases": [
                            "frontend"
                        ],
                        "languageName": null,
                        "name": "vscode"
                    }
                ]
            }
        }
    },
    "nbformat": 4,
    "nbformat_minor": 2
}
