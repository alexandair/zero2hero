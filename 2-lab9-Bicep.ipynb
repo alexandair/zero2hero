{
 "cells": [
  {
   "cell_type": "markdown",
   "source": [
    "# Deploy a web app using a Bicep template\r\n",
    "\r\n",
    "In this demo, you'll create a storage account, Azure App Service plan, and a web app using a basic Bicep template. You'll use the Bicep extension for Visual Studio Code."
   ],
   "metadata": {}
  },
  {
   "cell_type": "markdown",
   "source": [
    "## Create a Bicep template that contains a storage account\r\n",
    "\r\n",
    "1. Open Visual Studio Code and create a new file called `main.bicep`. \r\n",
    "\r\n",
    "2. Save the empty file so that Visual Studio Code loads the Bicep tooling.\r\n",
    "\r\n",
    "3. Type the following content into the file, so that you can see how the tooling helps you to write your Bicep files.\r\n",
    "\r\n",
    "```Bicep\r\n",
    "resource storageAccount 'Microsoft.Storage/storageAccounts@2019-06-01' = {\r\n",
    "  name: 'tm2021sa'\r\n",
    "  location: 'eastus'\r\n",
    "  sku: {\r\n",
    "    name: 'Standard_LRS'\r\n",
    "  }\r\n",
    "  kind: 'StorageV2'\r\n",
    "  properties: {\r\n",
    "    accessTier: 'Hot'\r\n",
    "  }\r\n",
    "}\r\n",
    "```\r\n",
    "\r\n",
    "4. The Bicep extension for Visual Studio Code understands the resources you're defining in your template, and it lists the available properties and values that you can use. Use `Ctrl+Space` to trigger the suggestions. \r\n",
    "\r\n",
    "5. The name of the storage account needs to be **globally unique**. Make sure the name is all lowercase, without any special characters, and fewer than 24 characters.\r\n",
    "\r\n",
    "6. Save the changes to the file.\r\n",
    "\r\n"
   ],
   "metadata": {}
  },
  {
   "cell_type": "markdown",
   "source": [
    "## Deploy the Bicep template to Azure\r\n",
    "\r\n",
    "To deploy this template to Azure, you need to sign in to your Azure account. You can use Azure PowerShell or Azure CLI."
   ],
   "metadata": {}
  },
  {
   "cell_type": "code",
   "execution_count": null,
   "source": [
    "# Connect-AzAccount \r\n",
    "# If you have a managed identity enabled\r\n",
    "# Connect-AzAccount -Identity\r\n",
    "\r\n",
    "# $context = Get-AzSubscription -SubscriptionName <Your Subscription>\r\n",
    "# Set-AzContext $context\r\n",
    "\r\n",
    "# Set the default resource group\r\n",
    "Set-AzDefault -ResourceGroupName 'tm2021-rg'\r\n",
    "\r\n",
    "# Deploy the template to Azure\r\n",
    "New-AzResourceGroupDeployment -TemplateFile ./main.bicep\r\n",
    "\r\n",
    "# Verify the deployment\r\n",
    "Get-AzResourceGroupDeployment | Format-Table"
   ],
   "outputs": [],
   "metadata": {
    "dotnet_interactive": {
     "language": "pwsh"
    }
   }
  },
  {
   "cell_type": "code",
   "execution_count": null,
   "source": [
    "# az login\r\n",
    "# If you have a managed identity enabled\r\n",
    "# az login --identity\r\n",
    "\r\n",
    "# az account set --subscription <Your Subscription>\r\n",
    "\r\n",
    "# Set the default resource group\r\n",
    "az configure --defaults group='tm2021-rg'\r\n",
    "\r\n",
    "# Deploy the template to Azure\r\n",
    "az deployment group create --template-file ./main.bicep\r\n",
    "\r\n",
    "# Verify the deployment\r\n",
    "az deployment group list --output table"
   ],
   "outputs": [],
   "metadata": {
    "dotnet_interactive": {
     "language": "pwsh"
    }
   }
  },
  {
   "cell_type": "markdown",
   "source": [
    "## Add an App Service plan and a web app to your Bicep template\r\n",
    "\r\n",
    "Now you're ready to deploy more resources, including a dependency.\r\n",
    "In this task, you add an App Service plan and a web app to the Bicep template.\r\n",
    "\r\n",
    "1. In the `main.bicep` file in Visual Studio Code, add the following code to the bottom of the file:\r\n",
    "\r\n",
    "```\r\n",
    "resource appServicePlan 'Microsoft.Web/serverFarms@2020-06-01' = {\r\n",
    "  name: 'tm2021-plan'\r\n",
    "  location: 'eastus'\r\n",
    "  sku: {\r\n",
    "    name: 'F1'\r\n",
    "    tier: 'Free'\r\n",
    "  }\r\n",
    "}\r\n",
    "\r\n",
    "resource webApp 'Microsoft.Web/sites@2020-06-01' = {\r\n",
    "  name: 'tm2021-app'\r\n",
    "  location: 'eastus'\r\n",
    "  properties: {\r\n",
    "    serverFarmId: appServicePlan.id\r\n",
    "    httpsOnly: true\r\n",
    "  }\r\n",
    "}\r\n",
    "```\r\n",
    "\r\n",
    "2. Update the name of the App Service app to be unique.\r\n",
    "Make sure the name is all lowercase, contains only alphanumerics and hyphens, doesn't start or end with a hyphen, and has 2 to 60 characters.\r\n",
    "\r\n",
    "3. Save the changes to the file."
   ],
   "metadata": {}
  },
  {
   "cell_type": "code",
   "execution_count": null,
   "source": [
    "# Add an App Service plan and a web app to the main.bicep file\r\n",
    "@\"\r\n",
    "\r\n",
    "resource appServicePlan 'Microsoft.Web/serverFarms@2020-06-01' = {\r\n",
    "  name: 'tm2021-plan'\r\n",
    "  location: 'eastus'\r\n",
    "  sku: {\r\n",
    "    name: 'F1'\r\n",
    "    tier: 'Free'\r\n",
    "  }\r\n",
    "}\r\n",
    "\r\n",
    "resource webApp 'Microsoft.Web/sites@2020-06-01' = {\r\n",
    "  name: 'tm2021-app'\r\n",
    "  location: 'eastus'\r\n",
    "  properties: {\r\n",
    "    serverFarmId: appServicePlan.id\r\n",
    "    httpsOnly: true\r\n",
    "  }\r\n",
    "}\r\n",
    "\"@ | Out-File -FilePath ./main.bicep -Append"
   ],
   "outputs": [],
   "metadata": {
    "dotnet_interactive": {
     "language": "pwsh"
    }
   }
  },
  {
   "cell_type": "code",
   "execution_count": null,
   "source": [
    "# Deploy the updated Bicep template and check your deployment\r\n",
    "New-AzResourceGroupDeployment -TemplateFile ./main.bicep\r\n",
    "Get-AzResourceGroupDeployment | Format-Table"
   ],
   "outputs": [],
   "metadata": {
    "dotnet_interactive": {
     "language": "pwsh"
    }
   }
  },
  {
   "cell_type": "code",
   "execution_count": null,
   "source": [
    "# Deploy the updated Bicep template and check your deployment\r\n",
    "az deployment group create --template-file ./main.bicep\r\n",
    "az deployment group list --output table"
   ],
   "outputs": [],
   "metadata": {
    "dotnet_interactive": {
     "language": "pwsh"
    }
   }
  },
  {
   "cell_type": "markdown",
   "source": [
    "## Add the location and resource name parameters\r\n",
    "\r\n",
    "In the `main.bicep` file in Visual Studio Code, add the following code to the top of the file:\r\n",
    "\r\n",
    "```\r\n",
    "param location string = resourceGroup().location\r\n",
    "param storageAccountName string = 'tm2021${uniqueString(resourceGroup().id)}'\r\n",
    "param appServiceAppName string = 'tm2021${uniqueString(resourceGroup().id)}'\r\n",
    "\r\n",
    "var appServicePlanName = 'tm2021-plan'\r\n",
    "```\r\n",
    "\r\n",
    "You're using expressions that include string interpolation, the uniqueString() function, and the resourceGroup() function to define default parameter values. Someone deploying this template can override the default parameter values by specifying the values at deployment time, but they can't override the variable values.\r\n",
    "\r\n",
    "Storage accounts and App Service apps need globally unique names, but App Service plans need to be unique only within their resource group."
   ],
   "metadata": {}
  },
  {
   "cell_type": "code",
   "execution_count": null,
   "source": [
    "$prependLines = @(@'\r\n",
    "param location string = resourceGroup().location\r\n",
    "param storageAccountName string = 'tm2021${uniqueString(resourceGroup().id)}'\r\n",
    "param appServiceAppName string = 'tm2021${uniqueString(resourceGroup().id)}'\r\n",
    "\r\n",
    "var appServicePlanName = 'tm2021-plan'\r\n",
    "\r\n",
    "'@)\r\n",
    "\r\n",
    "$prependLines + (Get-Content ./main.bicep) | Set-Content .\\main.bicep"
   ],
   "outputs": [],
   "metadata": {
    "dotnet_interactive": {
     "language": "pwsh"
    }
   }
  },
  {
   "cell_type": "markdown",
   "source": [
    "Find the places within the resource definitions where the location and name properties are set, and update them to use the parameter values. The resource definitions within your Bicep file should look like this:\r\n",
    "\r\n",
    "```\r\n",
    "resource storageAccount 'Microsoft.Storage/storageAccounts@2019-06-01' = {\r\n",
    "  name: storageAccountName\r\n",
    "  location: location\r\n",
    "  sku: {\r\n",
    "    name: 'Standard_LRS'\r\n",
    "  }\r\n",
    "  kind: 'StorageV2'\r\n",
    "  properties: {\r\n",
    "    accessTier: 'Hot'\r\n",
    "  }\r\n",
    "}\r\n",
    "\r\n",
    "resource appServicePlan 'Microsoft.Web/serverFarms@2020-06-01' = {\r\n",
    "  name: appServicePlanName\r\n",
    "  location: location\r\n",
    "  sku: {\r\n",
    "    name: 'F1'\r\n",
    "    tier: 'Free'\r\n",
    "  }\r\n",
    "}\r\n",
    "\r\n",
    "resource webApp 'Microsoft.Web/sites@2020-06-01' = {\r\n",
    "  name: appServiceAppName\r\n",
    "  location: location\r\n",
    "  properties: {\r\n",
    "    serverFarmId: appServicePlan.id\r\n",
    "    httpsOnly: true\r\n",
    "  }\r\n",
    "}\r\n",
    "```\r\n",
    "\r\n",
    "Save the changes to the file."
   ],
   "metadata": {}
  },
  {
   "cell_type": "markdown",
   "source": [
    "## Automatically set the SKUs for each environment type\r\n",
    "\r\n",
    "Add the following Bicep parameter below the parameters that you created in the previous task:\r\n",
    "\r\n",
    "```\r\n",
    "@allowed([\r\n",
    "  'dev'\r\n",
    "  'prod'\r\n",
    "])\r\n",
    "param environment string\r\n",
    "```\r\n",
    "\r\n",
    "You're defining a parameter with a set of allowed values, but you're not specifying a default value for this parameter.\r\n",
    "\r\n",
    "Below the line that declares the `appServicePlanName` variable, add the following variable definitions:\r\n",
    "\r\n",
    "```\r\n",
    "var storageAccountSkuName = (environment == 'prod') ? 'Standard_GRS' : 'Standard_LRS'\r\n",
    "var appServicePlanSkuName = (environment == 'prod') ? 'P2_v3' : 'F1'\r\n",
    "var appServicePlanTierName = (environment == 'prod') ? 'PremiumV3' : 'Free'\r\n",
    "```\r\n",
    "\r\n",
    "You're setting these variables' values by using the ternary operator to express some if/then/else logic.\r\n",
    "\r\n",
    "Find the places within the resource definitions where the SKU properties are set, and update them to use the variable values. After you're finished, the resource definitions in your Bicep file should look like this:\r\n",
    "\r\n",
    "```\r\n",
    "resource storageAccount 'Microsoft.Storage/storageAccounts@2019-06-01' = {\r\n",
    "  name: storageAccountName\r\n",
    "  location: location\r\n",
    "  sku: {\r\n",
    "    name: storageAccountSkuName\r\n",
    "  }\r\n",
    "  kind: 'StorageV2'\r\n",
    "  properties: {\r\n",
    "    accessTier: 'Hot'\r\n",
    "  }\r\n",
    "}\r\n",
    "\r\n",
    "resource appServicePlan 'Microsoft.Web/serverFarms@2020-06-01' = {\r\n",
    "  name: appServicePlanName\r\n",
    "  location: location\r\n",
    "  sku: {\r\n",
    "    name: appServicePlanSkuName\r\n",
    "    tier: appServicePlanTierName\r\n",
    "  }\r\n",
    "}\r\n",
    "\r\n",
    "resource webApp 'Microsoft.Web/sites@2020-06-01' = {\r\n",
    "  name: appServiceAppName\r\n",
    "  location: location\r\n",
    "  properties: {\r\n",
    "    serverFarmId: appServicePlan.id\r\n",
    "    httpsOnly: true\r\n",
    "  }\r\n",
    "}\r\n",
    "```\r\n",
    "\r\n",
    "Save the changes to the file."
   ],
   "metadata": {}
  },
  {
   "cell_type": "code",
   "execution_count": null,
   "source": [
    "# Deploy the updated Bicep template\r\n",
    "New-AzResourceGroupDeployment -TemplateFile main.bicep -environment dev\r\n",
    "Get-AzResourceGroupDeployment"
   ],
   "outputs": [],
   "metadata": {
    "dotnet_interactive": {
     "language": "pwsh"
    }
   }
  },
  {
   "cell_type": "code",
   "execution_count": null,
   "source": [
    "# Deploy the updated Bicep template\r\n",
    "az deployment group create --template-file ./main.bicep --parameters environment=dev\r\n",
    "az deployment group list -o table"
   ],
   "outputs": [],
   "metadata": {
    "dotnet_interactive": {
     "language": "pwsh"
    }
   }
  },
  {
   "cell_type": "markdown",
   "source": [
    "## Add a new module file\r\n",
    "\r\n",
    "Create a new folder called `modules` in the same folder where you created your `main.bicep` file. In the `modules` folder, create a file called `appService.bicep`. Save the file."
   ],
   "metadata": {}
  },
  {
   "cell_type": "code",
   "execution_count": null,
   "source": [
    "mkdir modules\r\n",
    "cd modules\r\n",
    "New-Item appService.bicep"
   ],
   "outputs": [],
   "metadata": {
    "dotnet_interactive": {
     "language": "pwsh"
    }
   }
  },
  {
   "cell_type": "markdown",
   "source": [
    "Add the following content into the appService.bicep file:\r\n",
    "\r\n",
    "```\r\n",
    "param location string\r\n",
    "param appServiceAppName string\r\n",
    "\r\n",
    "@allowed([\r\n",
    "  'dev'\r\n",
    "  'prod'\r\n",
    "])\r\n",
    "param environment string\r\n",
    "\r\n",
    "var appServicePlanName = 'tm2021-plan'\r\n",
    "var appServicePlanSkuName = (environment == 'prod') ? 'P2_v3' : 'F1'\r\n",
    "var appServicePlanTierName = (environment == 'prod') ? 'PremiumV3' : 'Free'\r\n",
    "\r\n",
    "resource appServicePlan 'Microsoft.Web/serverFarms@2020-06-01' = {\r\n",
    "  name: appServicePlanName\r\n",
    "  location: location\r\n",
    "  sku: {\r\n",
    "    name: appServicePlanSkuName\r\n",
    "    tier: appServicePlanTierName\r\n",
    "  }\r\n",
    "}\r\n",
    "\r\n",
    "resource webApp 'Microsoft.Web/sites@2020-06-01' = {\r\n",
    "  name: appServiceAppName\r\n",
    "  location: location\r\n",
    "  properties: {\r\n",
    "    serverFarmId: appServicePlan.id\r\n",
    "    httpsOnly: true\r\n",
    "  }\r\n",
    "}\r\n",
    "```\r\n",
    "\r\n",
    "You've copied the parameters and variables from your main.bicep template, because the appService.bicep template needs to be self-contained.\r\n",
    "\r\n",
    "Save the changes to the file."
   ],
   "metadata": {}
  },
  {
   "cell_type": "code",
   "execution_count": null,
   "source": [
    "@\"\r\n",
    "param location string\r\n",
    "param appServiceAppName string\r\n",
    "\r\n",
    "@allowed([\r\n",
    "  'dev'\r\n",
    "  'prod'\r\n",
    "])\r\n",
    "param environment string\r\n",
    "\r\n",
    "var appServicePlanName = 'tm2021-plan'\r\n",
    "var appServicePlanSkuName = (environment == 'prod') ? 'P2_v3' : 'F1'\r\n",
    "var appServicePlanTierName = (environment == 'prod') ? 'PremiumV3' : 'Free'\r\n",
    "\r\n",
    "resource appServicePlan 'Microsoft.Web/serverFarms@2020-06-01' = {\r\n",
    "  name: appServicePlanName\r\n",
    "  location: location\r\n",
    "  sku: {\r\n",
    "    name: appServicePlanSkuName\r\n",
    "    tier: appServicePlanTierName\r\n",
    "  }\r\n",
    "}\r\n",
    "\r\n",
    "resource webApp 'Microsoft.Web/sites@2020-06-01' = {\r\n",
    "  name: appServiceAppName\r\n",
    "  location: location\r\n",
    "  properties: {\r\n",
    "    serverFarmId: appServicePlan.id\r\n",
    "    httpsOnly: true\r\n",
    "  }\r\n",
    "}\r\n",
    "\"@ | Out-File -FilePath ./appService.bicep\r\n",
    "\r\n",
    "code c:/tm_demo/modules/appService.bicep"
   ],
   "outputs": [],
   "metadata": {
    "dotnet_interactive": {
     "language": "pwsh"
    }
   }
  },
  {
   "cell_type": "markdown",
   "source": [
    "## Add a reference to the module from the parent template\r\n",
    "\r\n",
    "Now that you have a complete module to deploy the App Service resources, you can refer to the module within the parent template.\r\n",
    "\r\n",
    "In the `main.bicep` file, delete the App Service resources and the `appServicePlanName`, `appServicePlanSkuName`, and `appServicePlanTierName` variable definitions. Don't delete the App Service-related parameters, because you still need them. Also, don't delete the storage account parameters, variable, or resources.\r\n",
    "\r\n",
    "At the bottom of the `main.bicep` file, add the following Bicep code:\r\n",
    "\r\n",
    "```\r\n",
    "module appService 'modules/appService.bicep' = {\r\n",
    "  name: 'appService'\r\n",
    "  params: {\r\n",
    "    location: location\r\n",
    "    appServiceAppName: appServiceAppName\r\n",
    "    environment: environment\r\n",
    "  }\r\n",
    "}\r\n",
    "```\r\n",
    "\r\n",
    "You're specifying the parameters for your module by referencing the parameters in the parent template.\r\n",
    "\r\n",
    "Save the changes to the file."
   ],
   "metadata": {}
  },
  {
   "cell_type": "markdown",
   "source": [
    "## Add the host name as an output\r\n",
    "\r\n",
    "Add the following Bicep code at the bottom of the `appService.bicep` file:\r\n",
    "\r\n",
    "```\r\n",
    "output webAppHostName string = webApp.properties.defaultHostName\r\n",
    "```\r\n",
    "\r\n",
    "This code is declaring that an output for this module, which will be named `appServiceAppHostName`, will be of type string. The output will take its value from the `defaultHostName` property of the App Service app.\r\n",
    "\r\n",
    "Save the changes to the file.\r\n",
    "\r\n",
    "This output is declared within a Bicep file that we'll use as a module, so it's going to be available only to the parent template. You also need to return the output to the person who's deploying the template.\r\n",
    "\r\n",
    "Open the `main.bicep` file and add the following code at the bottom of the file:\r\n",
    "\r\n",
    "```\r\n",
    "output webAppHostName string = appService.outputs.webAppHostName\r\n",
    "```\r\n",
    "\r\n",
    "This output is declared in a similar way to the output in the module. But this time, you're referencing the module's output instead of a resource property.\r\n",
    "\r\n",
    "Save the changes to the file."
   ],
   "metadata": {}
  },
  {
   "cell_type": "code",
   "execution_count": null,
   "source": [
    "# Deploy the updated Bicep template\r\n",
    "cd c:/tm_demo\r\n",
    "New-AzResourceGroupDeployment -TemplateFile ./main.bicep -environment dev"
   ],
   "outputs": [],
   "metadata": {
    "dotnet_interactive": {
     "language": "pwsh"
    }
   }
  },
  {
   "cell_type": "code",
   "execution_count": null,
   "source": [
    "# Deploy the updated Bicep template\r\n",
    "cd c:/tm_demo\r\n",
    "az deployment group create --template-file ./main.bicep --parameters environment=dev"
   ],
   "outputs": [],
   "metadata": {
    "dotnet_interactive": {
     "language": "pwsh"
    }
   }
  },
  {
   "cell_type": "code",
   "execution_count": null,
   "source": [
    "# Open the default App Service welcome page\r\n",
    "start  ('https://{0}' -f (Get-AzResourceGroupDeployment -ResourceGroupName tm2021-rg | where DeploymentName -eq main | Select-Object -ExpandProperty outputs).values.value)"
   ],
   "outputs": [],
   "metadata": {
    "dotnet_interactive": {
     "language": "pwsh"
    }
   }
  }
 ],
 "metadata": {
  "kernelspec": {
   "display_name": ".NET (PowerShell)",
   "language": "PowerShell",
   "name": ".net-powershell"
  },
  "language_info": {
   "file_extension": ".ps1",
   "mimetype": "text/x-powershell",
   "name": "PowerShell",
   "pygments_lexer": "powershell",
   "version": "7.0"
  },
  "orig_nbformat": 2
 },
 "nbformat": 4,
 "nbformat_minor": 2
}