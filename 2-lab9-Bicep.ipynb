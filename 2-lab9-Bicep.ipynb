{
 "cells": [
  {
   "cell_type": "markdown",
   "metadata": {
    "dotnet_interactive": {
     "language": "csharp"
    },
    "polyglot_notebook": {
     "kernelName": "csharp"
    }
   },
   "source": [
    "# Deploy a web app using a Bicep template\n",
    "\n",
    "In this demo, you'll create a storage account, Azure App Service plan, and a web app using a basic Bicep template. You'll use the Bicep extension for Visual Studio Code."
   ]
  },
  {
   "attachments": {},
   "cell_type": "markdown",
   "metadata": {
    "dotnet_interactive": {
     "language": "csharp"
    },
    "polyglot_notebook": {
     "kernelName": "csharp"
    }
   },
   "source": [
    "## Create a Bicep template that contains a storage account\n",
    "\n",
    "1. Open Visual Studio Code and create a new file called `main.bicep`. \n",
    "\n",
    "2. Save the empty file so that Visual Studio Code loads the Bicep tooling.\n",
    "\n",
    "3. Type the following content into the file, so that you can see how the tooling helps you to write your Bicep files.\n",
    "\n",
    "```Bicep\n",
    "resource storageAccount 'Microsoft.Storage/storageAccounts@2022-05-01' = {\n",
    "  name: 'otp20221227sa'\n",
    "  location: 'westeurope'\n",
    "  sku: {\n",
    "    name: 'Standard_LRS'\n",
    "  }\n",
    "  kind: 'StorageV2'\n",
    "  properties: {\n",
    "    accessTier: 'Hot'\n",
    "  }\n",
    "}\n",
    "```\n",
    "\n",
    "4. The Bicep extension for Visual Studio Code understands the resources you're defining in your template, and it lists the available properties and values that you can use. Use `Ctrl+Space` to trigger the suggestions. \n",
    "\n",
    "5. The name of the storage account needs to be **globally unique**. Make sure the name is all lowercase, without any special characters, and fewer than 24 characters.\n",
    "\n",
    "6. Save the changes to the file.\n",
    "\n"
   ]
  },
  {
   "cell_type": "markdown",
   "metadata": {
    "dotnet_interactive": {
     "language": "csharp"
    },
    "polyglot_notebook": {
     "kernelName": "csharp"
    }
   },
   "source": [
    "## Deploy the Bicep template to Azure\n",
    "\n",
    "To deploy this template to Azure, you need to sign in to your Azure account. You can use Azure PowerShell or Azure CLI."
   ]
  },
  {
   "cell_type": "code",
   "execution_count": null,
   "metadata": {
    "dotnet_interactive": {
     "language": "pwsh"
    },
    "vscode": {
     "languageId": "polyglot-notebook"
    }
   },
   "outputs": [],
   "source": [
    "# Connect-AzAccount \n",
    "# If you have a managed identity enabled\n",
    "# Connect-AzAccount -Identity\n",
    "\n",
    "# $context = Get-AzSubscription -SubscriptionName <Your Subscription>\n",
    "# Set-AzContext $context\n",
    "\n",
    "# Set the default resource group\n",
    "Set-AzDefault -ResourceGroupName 'otp-rg'\n",
    "\n",
    "# Deploy the template to Azure\n",
    "New-AzResourceGroupDeployment -TemplateFile ./main.bicep\n",
    "\n",
    "# Verify the deployment\n",
    "Get-AzResourceGroupDeployment -ResourceGroupName 'otp-rg' | Format-Table"
   ]
  },
  {
   "cell_type": "code",
   "execution_count": null,
   "metadata": {
    "dotnet_interactive": {
     "language": "pwsh"
    },
    "vscode": {
     "languageId": "polyglot-notebook"
    }
   },
   "outputs": [],
   "source": [
    "# az login\n",
    "# If you have a managed identity enabled\n",
    "# az login --identity\n",
    "\n",
    "# az account set --subscription <Your Subscription>\n",
    "\n",
    "# Set the default resource group\n",
    "az configure --defaults group='otp-rg'\n",
    "\n",
    "# Deploy the template to Azure\n",
    "az deployment group create --template-file ./main.bicep\n",
    "\n",
    "# Verify the deployment\n",
    "az deployment group list --output table"
   ]
  },
  {
   "attachments": {},
   "cell_type": "markdown",
   "metadata": {
    "dotnet_interactive": {
     "language": "csharp"
    },
    "polyglot_notebook": {
     "kernelName": "csharp"
    }
   },
   "source": [
    "## Add an App Service plan and a web app to your Bicep template\n",
    "\n",
    "Now you're ready to deploy more resources, including a dependency.\n",
    "In this task, you add an App Service plan and a web app to the Bicep template.\n",
    "\n",
    "1. In the `main.bicep` file in Visual Studio Code, add the following code to the bottom of the file:\n",
    "\n",
    "```\n",
    "resource appServicePlan 'Microsoft.Web/serverFarms@2022-03-01' = {\n",
    "  name: 'otp2022-plan'\n",
    "  location: 'westeurope'\n",
    "  sku: {\n",
    "    name: 'F1'\n",
    "    tier: 'Free'\n",
    "  }\n",
    "}\n",
    "\n",
    "resource webApp 'Microsoft.Web/sites@2022-03-01' = {\n",
    "  name: 'otp20221227-app'\n",
    "  location: 'westeurope'\n",
    "  properties: {\n",
    "    serverFarmId: appServicePlan.id\n",
    "    httpsOnly: true\n",
    "  }\n",
    "}\n",
    "```\n",
    "\n",
    "2. Update the name of the App Service app to be unique.\n",
    "Make sure the name is all lowercase, contains only alphanumerics and hyphens, doesn't start or end with a hyphen, and has 2 to 60 characters.\n",
    "\n",
    "3. Save the changes to the file."
   ]
  },
  {
   "cell_type": "code",
   "execution_count": null,
   "metadata": {
    "dotnet_interactive": {
     "language": "pwsh"
    },
    "vscode": {
     "languageId": "polyglot-notebook"
    }
   },
   "outputs": [],
   "source": [
    "# Add an App Service plan and a web app to the main.bicep file\n",
    "@\"\n",
    "\n",
    "resource appServicePlan 'Microsoft.Web/serverFarms@2022-03-01' = {\n",
    "  name: 'otp2022-plan'\n",
    "  location: 'westeurope'\n",
    "  sku: {\n",
    "    name: 'F1'\n",
    "    tier: 'Free'\n",
    "  }\n",
    "}\n",
    "\n",
    "resource webApp 'Microsoft.Web/sites@2022-03-01' = {\n",
    "  name: 'otp20221227-app'\n",
    "  location: 'westeurope'\n",
    "  properties: {\n",
    "    serverFarmId: appServicePlan.id\n",
    "    httpsOnly: true\n",
    "  }\n",
    "}\n",
    "\"@ | Out-File -FilePath ./main.bicep -Append"
   ]
  },
  {
   "cell_type": "code",
   "execution_count": null,
   "metadata": {
    "dotnet_interactive": {
     "language": "pwsh"
    },
    "vscode": {
     "languageId": "polyglot-notebook"
    }
   },
   "outputs": [],
   "source": [
    "# Deploy the updated Bicep template and check your deployment\n",
    "New-AzResourceGroupDeployment -TemplateFile ./main.bicep\n",
    "Get-AzResourceGroupDeployment -ResourceGroupName 'otp-rg' | Format-Table"
   ]
  },
  {
   "cell_type": "code",
   "execution_count": null,
   "metadata": {
    "dotnet_interactive": {
     "language": "pwsh"
    },
    "vscode": {
     "languageId": "polyglot-notebook"
    }
   },
   "outputs": [],
   "source": [
    "# Deploy the updated Bicep template and check your deployment\n",
    "az deployment group create --template-file ./main.bicep\n",
    "az deployment group list --output table"
   ]
  },
  {
   "attachments": {},
   "cell_type": "markdown",
   "metadata": {
    "dotnet_interactive": {
     "language": "csharp"
    },
    "polyglot_notebook": {
     "kernelName": "csharp"
    }
   },
   "source": [
    "## Add the location and resource name parameters\n",
    "\n",
    "In the `main.bicep` file in Visual Studio Code, add the following code to the top of the file:\n",
    "\n",
    "```\n",
    "param location string = resourceGroup().location\n",
    "param storageAccountName string = 'otp2022${uniqueString(resourceGroup().id)}'\n",
    "param appServiceAppName string = 'otp2022${uniqueString(resourceGroup().id)}'\n",
    "\n",
    "var appServicePlanName = 'otp2022-plan'\n",
    "```\n",
    "\n",
    "You're using expressions that include string interpolation, the uniqueString() function, and the resourceGroup() function to define default parameter values. Someone deploying this template can override the default parameter values by specifying the values at deployment time, but they can't override the variable values.\n",
    "\n",
    "Storage accounts and App Service apps need globally unique names, but App Service plans need to be unique only within their resource group."
   ]
  },
  {
   "cell_type": "code",
   "execution_count": null,
   "metadata": {
    "dotnet_interactive": {
     "language": "pwsh"
    },
    "vscode": {
     "languageId": "polyglot-notebook"
    }
   },
   "outputs": [],
   "source": [
    "$prependLines = @(@'\n",
    "param location string = resourceGroup().location\n",
    "param storageAccountName string = 'otp2022${uniqueString(resourceGroup().id)}'\n",
    "param appServiceAppName string = 'otp2022${uniqueString(resourceGroup().id)}'\n",
    "\n",
    "var appServicePlanName = 'otp2022-plan'\n",
    "\n",
    "'@)\n",
    "\n",
    "$prependLines + (Get-Content ./main.bicep) | Set-Content .\\main.bicep"
   ]
  },
  {
   "attachments": {},
   "cell_type": "markdown",
   "metadata": {
    "dotnet_interactive": {
     "language": "csharp"
    },
    "polyglot_notebook": {
     "kernelName": "csharp"
    }
   },
   "source": [
    "Find the places within the resource definitions where the location and name properties are set, and update them to use the parameter values. The resource definitions within your Bicep file should look like this:\n",
    "\n",
    "```\n",
    "resource storageAccount 'Microsoft.Storage/storageAccounts@2022-05-01' = {\n",
    "  name: storageAccountName\n",
    "  location: location\n",
    "  sku: {\n",
    "    name: 'Standard_LRS'\n",
    "  }\n",
    "  kind: 'StorageV2'\n",
    "  properties: {\n",
    "    accessTier: 'Hot'\n",
    "  }\n",
    "}\n",
    "\n",
    "resource appServicePlan 'Microsoft.Web/serverFarms@2022-03-01' = {\n",
    "  name: appServicePlanName\n",
    "  location: location\n",
    "  sku: {\n",
    "    name: 'F1'\n",
    "    tier: 'Free'\n",
    "  }\n",
    "}\n",
    "\n",
    "resource webApp 'Microsoft.Web/sites@2022-03-01' = {\n",
    "  name: appServiceAppName\n",
    "  location: location\n",
    "  properties: {\n",
    "    serverFarmId: appServicePlan.id\n",
    "    httpsOnly: true\n",
    "  }\n",
    "}\n",
    "```\n",
    "\n",
    "Save the changes to the file."
   ]
  },
  {
   "attachments": {},
   "cell_type": "markdown",
   "metadata": {
    "dotnet_interactive": {
     "language": "csharp"
    },
    "polyglot_notebook": {
     "kernelName": "csharp"
    }
   },
   "source": [
    "## Automatically set the SKUs for each environment type\n",
    "\n",
    "Add the following Bicep parameter below the parameters that you created in the previous task:\n",
    "\n",
    "```\n",
    "@allowed([\n",
    "  'dev'\n",
    "  'prod'\n",
    "])\n",
    "param environment string\n",
    "```\n",
    "\n",
    "You're defining a parameter with a set of allowed values, but you're not specifying a default value for this parameter.\n",
    "\n",
    "Below the line that declares the `appServicePlanName` variable, add the following variable definitions:\n",
    "\n",
    "```\n",
    "var storageAccountSkuName = (environment == 'prod') ? 'Standard_GRS' : 'Standard_LRS'\n",
    "var appServicePlanSkuName = (environment == 'prod') ? 'P2_v3' : 'F1'\n",
    "var appServicePlanTierName = (environment == 'prod') ? 'PremiumV3' : 'Free'\n",
    "```\n",
    "\n",
    "You're setting these variables' values by using the ternary operator to express some if/then/else logic.\n",
    "\n",
    "Find the places within the resource definitions where the SKU properties are set, and update them to use the variable values. After you're finished, the resource definitions in your Bicep file should look like this:\n",
    "\n",
    "```\n",
    "resource storageAccount 'Microsoft.Storage/storageAccounts@2022-05-01' = {\n",
    "  name: storageAccountName\n",
    "  location: location\n",
    "  sku: {\n",
    "    name: storageAccountSkuName\n",
    "  }\n",
    "  kind: 'StorageV2'\n",
    "  properties: {\n",
    "    accessTier: 'Hot'\n",
    "  }\n",
    "}\n",
    "\n",
    "resource appServicePlan 'Microsoft.Web/serverFarms@2022-03-01' = {\n",
    "  name: appServicePlanName\n",
    "  location: location\n",
    "  sku: {\n",
    "    name: appServicePlanSkuName\n",
    "    tier: appServicePlanTierName\n",
    "  }\n",
    "}\n",
    "\n",
    "resource webApp 'Microsoft.Web/sites@2022-03-01' = {\n",
    "  name: appServiceAppName\n",
    "  location: location\n",
    "  properties: {\n",
    "    serverFarmId: appServicePlan.id\n",
    "    httpsOnly: true\n",
    "  }\n",
    "}\n",
    "```\n",
    "\n",
    "Save the changes to the file."
   ]
  },
  {
   "cell_type": "code",
   "execution_count": null,
   "metadata": {
    "dotnet_interactive": {
     "language": "pwsh"
    },
    "vscode": {
     "languageId": "polyglot-notebook"
    }
   },
   "outputs": [],
   "source": [
    "# Deploy the updated Bicep template\n",
    "New-AzResourceGroupDeployment -TemplateFile main.bicep -environment dev\n",
    "Get-AzResourceGroupDeployment -ResourceGroupName 'otp-rg' | Format-Table"
   ]
  },
  {
   "cell_type": "code",
   "execution_count": null,
   "metadata": {
    "dotnet_interactive": {
     "language": "pwsh"
    },
    "vscode": {
     "languageId": "polyglot-notebook"
    }
   },
   "outputs": [],
   "source": [
    "# Deploy the updated Bicep template\n",
    "az deployment group create --template-file ./main.bicep --parameters environment=dev\n",
    "az deployment group list -o table"
   ]
  },
  {
   "cell_type": "markdown",
   "metadata": {
    "dotnet_interactive": {
     "language": "csharp"
    },
    "polyglot_notebook": {
     "kernelName": "csharp"
    }
   },
   "source": [
    "## Add a new module file\n",
    "\n",
    "Create a new folder called `modules` in the same folder where you created your `main.bicep` file. In the `modules` folder, create a file called `appService.bicep`. Save the file."
   ]
  },
  {
   "cell_type": "code",
   "execution_count": null,
   "metadata": {
    "dotnet_interactive": {
     "language": "pwsh"
    },
    "vscode": {
     "languageId": "polyglot-notebook"
    }
   },
   "outputs": [],
   "source": [
    "mkdir modules\n",
    "cd modules\n",
    "New-Item appService.bicep"
   ]
  },
  {
   "attachments": {},
   "cell_type": "markdown",
   "metadata": {
    "dotnet_interactive": {
     "language": "csharp"
    },
    "polyglot_notebook": {
     "kernelName": "csharp"
    }
   },
   "source": [
    "Add the following content into the appService.bicep file:\n",
    "\n",
    "```\n",
    "param location string\n",
    "param appServiceAppName string\n",
    "\n",
    "@allowed([\n",
    "  'dev'\n",
    "  'prod'\n",
    "])\n",
    "param environment string\n",
    "\n",
    "var appServicePlanName = 'otp2022-plan'\n",
    "var appServicePlanSkuName = (environment == 'prod') ? 'P2_v3' : 'F1'\n",
    "var appServicePlanTierName = (environment == 'prod') ? 'PremiumV3' : 'Free'\n",
    "\n",
    "resource appServicePlan 'Microsoft.Web/serverFarms@2022-03-01' = {\n",
    "  name: appServicePlanName\n",
    "  location: location\n",
    "  sku: {\n",
    "    name: appServicePlanSkuName\n",
    "    tier: appServicePlanTierName\n",
    "  }\n",
    "}\n",
    "\n",
    "resource webApp 'Microsoft.Web/sites@2022-03-01' = {\n",
    "  name: appServiceAppName\n",
    "  location: location\n",
    "  properties: {\n",
    "    serverFarmId: appServicePlan.id\n",
    "    httpsOnly: true\n",
    "  }\n",
    "}\n",
    "```\n",
    "\n",
    "You've copied the parameters and variables from your main.bicep template, because the appService.bicep template needs to be self-contained.\n",
    "\n",
    "Save the changes to the file."
   ]
  },
  {
   "cell_type": "code",
   "execution_count": null,
   "metadata": {
    "dotnet_interactive": {
     "language": "pwsh"
    },
    "vscode": {
     "languageId": "polyglot-notebook"
    }
   },
   "outputs": [],
   "source": [
    "@\"\n",
    "param location string\n",
    "param appServiceAppName string\n",
    "\n",
    "@allowed([\n",
    "  'dev'\n",
    "  'prod'\n",
    "])\n",
    "param environment string\n",
    "\n",
    "var appServicePlanName = 'otp2022-plan'\n",
    "var appServicePlanSkuName = (environment == 'prod') ? 'P2_v3' : 'F1'\n",
    "var appServicePlanTierName = (environment == 'prod') ? 'PremiumV3' : 'Free'\n",
    "\n",
    "resource appServicePlan 'Microsoft.Web/serverFarms@2022-03-01' = {\n",
    "  name: appServicePlanName\n",
    "  location: location\n",
    "  sku: {\n",
    "    name: appServicePlanSkuName\n",
    "    tier: appServicePlanTierName\n",
    "  }\n",
    "}\n",
    "\n",
    "resource webApp 'Microsoft.Web/sites@2022-03-01' = {\n",
    "  name: appServiceAppName\n",
    "  location: location\n",
    "  properties: {\n",
    "    serverFarmId: appServicePlan.id\n",
    "    httpsOnly: true\n",
    "  }\n",
    "}\n",
    "\"@ | Out-File -FilePath ./appService.bicep\n",
    "\n",
    "code c:/zero2hero/modules/appService.bicep"
   ]
  },
  {
   "cell_type": "markdown",
   "metadata": {
    "dotnet_interactive": {
     "language": "csharp"
    },
    "polyglot_notebook": {
     "kernelName": "csharp"
    }
   },
   "source": [
    "## Add a reference to the module from the parent template\n",
    "\n",
    "Now that you have a complete module to deploy the App Service resources, you can refer to the module within the parent template.\n",
    "\n",
    "In the `main.bicep` file, delete the App Service resources and the `appServicePlanName`, `appServicePlanSkuName`, and `appServicePlanTierName` variable definitions. Don't delete the App Service-related parameters, because you still need them. Also, don't delete the storage account parameters, variable, or resources.\n",
    "\n",
    "At the bottom of the `main.bicep` file, add the following Bicep code:\n",
    "\n",
    "```\n",
    "module appService 'modules/appService.bicep' = {\n",
    "  name: 'appService'\n",
    "  params: {\n",
    "    location: location\n",
    "    appServiceAppName: appServiceAppName\n",
    "    environment: environment\n",
    "  }\n",
    "}\n",
    "```\n",
    "\n",
    "You're specifying the parameters for your module by referencing the parameters in the parent template.\n",
    "\n",
    "Save the changes to the file."
   ]
  },
  {
   "cell_type": "markdown",
   "metadata": {
    "dotnet_interactive": {
     "language": "csharp"
    },
    "polyglot_notebook": {
     "kernelName": "csharp"
    }
   },
   "source": [
    "## Add the host name as an output\n",
    "\n",
    "Add the following Bicep code at the bottom of the `appService.bicep` file:\n",
    "\n",
    "```\n",
    "output webAppHostName string = webApp.properties.defaultHostName\n",
    "```\n",
    "\n",
    "This code is declaring that an output for this module, which will be named `appServiceAppHostName`, will be of type string. The output will take its value from the `defaultHostName` property of the App Service app.\n",
    "\n",
    "Save the changes to the file.\n",
    "\n",
    "This output is declared within a Bicep file that we'll use as a module, so it's going to be available only to the parent template. You also need to return the output to the person who's deploying the template.\n",
    "\n",
    "Open the `main.bicep` file and add the following code at the bottom of the file:\n",
    "\n",
    "```\n",
    "output webAppHostName string = appService.outputs.webAppHostName\n",
    "```\n",
    "\n",
    "This output is declared in a similar way to the output in the module. But this time, you're referencing the module's output instead of a resource property.\n",
    "\n",
    "Save the changes to the file."
   ]
  },
  {
   "cell_type": "code",
   "execution_count": null,
   "metadata": {
    "dotnet_interactive": {
     "language": "pwsh"
    },
    "vscode": {
     "languageId": "polyglot-notebook"
    }
   },
   "outputs": [],
   "source": [
    "# Deploy the updated Bicep template\n",
    "cd c:/zero2hero\n",
    "New-AzResourceGroupDeployment -TemplateFile ./main.bicep -environment dev"
   ]
  },
  {
   "cell_type": "code",
   "execution_count": null,
   "metadata": {
    "dotnet_interactive": {
     "language": "pwsh"
    },
    "vscode": {
     "languageId": "polyglot-notebook"
    }
   },
   "outputs": [],
   "source": [
    "# Deploy the updated Bicep template\n",
    "cd c:/zero2hero\n",
    "az deployment group create --template-file ./main.bicep --parameters environment=dev"
   ]
  },
  {
   "cell_type": "code",
   "execution_count": null,
   "metadata": {
    "dotnet_interactive": {
     "language": "pwsh"
    },
    "vscode": {
     "languageId": "polyglot-notebook"
    }
   },
   "outputs": [],
   "source": [
    "# Open the default App Service welcome page\n",
    "start  ('https://{0}' -f (Get-AzResourceGroupDeployment -ResourceGroupName otp-rg | where DeploymentName -eq main | Select-Object -ExpandProperty outputs).values.value)"
   ]
  }
 ],
 "metadata": {
  "kernelspec": {
   "display_name": ".NET (C#)",
   "language": "C#",
   "name": ".net-csharp"
  },
  "polyglot_notebook": {
   "kernelInfo": {
    "defaultKernelName": "csharp",
    "items": [
     {
      "aliases": [
       "c#",
       "C#"
      ],
      "languageName": "C#",
      "name": "csharp"
     },
     {
      "aliases": [],
      "name": ".NET"
     },
     {
      "aliases": [
       "f#",
       "F#"
      ],
      "languageName": "F#",
      "name": "fsharp"
     },
     {
      "aliases": [],
      "languageName": "HTML",
      "name": "html"
     },
     {
      "aliases": [],
      "languageName": "KQL",
      "name": "kql"
     },
     {
      "aliases": [],
      "languageName": "Mermaid",
      "name": "mermaid"
     },
     {
      "aliases": [
       "powershell"
      ],
      "languageName": "PowerShell",
      "name": "pwsh"
     },
     {
      "aliases": [],
      "languageName": "SQL",
      "name": "sql"
     },
     {
      "aliases": [],
      "name": "value"
     },
     {
      "aliases": [
       "frontend"
      ],
      "name": "vscode"
     }
    ]
   }
  }
 },
 "nbformat": 4,
 "nbformat_minor": 2
}
